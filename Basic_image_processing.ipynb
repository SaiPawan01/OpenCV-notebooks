{
 "cells": [
  {
   "cell_type": "code",
   "execution_count": 1,
   "id": "e9b7b495",
   "metadata": {},
   "outputs": [],
   "source": [
    "import cv2\n",
    "import numpy as np"
   ]
  },
  {
   "cell_type": "code",
   "execution_count": 2,
   "id": "8e2f3184",
   "metadata": {},
   "outputs": [
    {
     "data": {
      "text/plain": [
       "-1"
      ]
     },
     "execution_count": 2,
     "metadata": {},
     "output_type": "execute_result"
    }
   ],
   "source": [
    "# Reading an image in opencv\n",
    "img = cv2.imread(\"images/forest.jpeg\")\n",
    "\n",
    "# displaying an image\n",
    "cv2.imshow(\"The forest\",img)\n",
    "\n",
    "# the wait time of the image. zero means infinite\n",
    "cv2.waitKey(0)"
   ]
  },
  {
   "cell_type": "code",
   "execution_count": 3,
   "id": "912ec9d4",
   "metadata": {},
   "outputs": [
    {
     "data": {
      "text/plain": [
       "-1"
      ]
     },
     "execution_count": 3,
     "metadata": {},
     "output_type": "execute_result"
    }
   ],
   "source": [
    "# converting image to color Schemes\n",
    "cv2.imshow(\"The Original(BGR)\",img)\n",
    "\n",
    "gray_img = cv2.cvtColor(img,cv2.COLOR_RGB2GRAY)\n",
    "cv2.imshow(\"Gray\",gray_img)\n",
    "\n",
    "rgb_img = cv2.cvtColor(img,cv2.COLOR_BGR2RGB)\n",
    "cv2.imshow(\"RGB\",rgb_img)\n",
    "\n",
    "hsv_img = cv2.cvtColor(img,cv2.COLOR_BGR2HSV)\n",
    "cv2.imshow(\"HSV\",hsv_img)\n",
    "\n",
    "# wait time\n",
    "cv2.waitKey(0)"
   ]
  },
  {
   "cell_type": "code",
   "execution_count": 4,
   "id": "471b15c0",
   "metadata": {},
   "outputs": [
    {
     "data": {
      "text/plain": [
       "-1"
      ]
     },
     "execution_count": 4,
     "metadata": {},
     "output_type": "execute_result"
    }
   ],
   "source": [
    "# splitting color channels of RGB image\n",
    "R,G,B = cv2.split(rgb_img)\n",
    "\n",
    "cv2.imshow(\"Red\",R)\n",
    "cv2.imshow(\"Green\",G)\n",
    "cv2.imshow(\"Blue\",B)\n",
    "\n",
    "cv2.waitKey(0)"
   ]
  },
  {
   "cell_type": "code",
   "execution_count": 23,
   "id": "c270e0a0",
   "metadata": {},
   "outputs": [
    {
     "data": {
      "text/plain": [
       "-1"
      ]
     },
     "execution_count": 23,
     "metadata": {},
     "output_type": "execute_result"
    }
   ],
   "source": [
    "# splitting color channels of BGR image\n",
    "B,G,R = cv2.split(rgb_img)\n",
    "\n",
    "cv2.imshow(\"Blue\",B)\n",
    "cv2.imshow(\"Green\",G)\n",
    "cv2.imshow(\"Red\",R)\n",
    "\n",
    "cv2.waitKey(0)"
   ]
  },
  {
   "cell_type": "code",
   "execution_count": 25,
   "id": "ecd9d05c",
   "metadata": {},
   "outputs": [
    {
     "data": {
      "text/plain": [
       "-1"
      ]
     },
     "execution_count": 25,
     "metadata": {},
     "output_type": "execute_result"
    }
   ],
   "source": [
    "# merging color channels\n",
    "merged_img = cv2.merge((B,G,R))\n",
    "\n",
    "cv2.imshow(\"Merged image\",merged_img)\n",
    "\n",
    "cv2.waitKey(0)"
   ]
  },
  {
   "cell_type": "code",
   "execution_count": 9,
   "id": "403ebaec",
   "metadata": {},
   "outputs": [
    {
     "data": {
      "text/plain": [
       "-1"
      ]
     },
     "execution_count": 9,
     "metadata": {},
     "output_type": "execute_result"
    }
   ],
   "source": [
    "# Resize image\n",
    "height = 420\n",
    "width = 620\n",
    "img_resize = cv2.resize(img,(width,height))\n",
    "\n",
    "cv2.imshow(\"Resized Image\",img_resize)\n",
    "\n",
    "cv2.waitKey(0)"
   ]
  },
  {
   "cell_type": "code",
   "execution_count": 10,
   "id": "6455c240",
   "metadata": {},
   "outputs": [
    {
     "data": {
      "text/plain": [
       "-1"
      ]
     },
     "execution_count": 10,
     "metadata": {},
     "output_type": "execute_result"
    }
   ],
   "source": [
    "# flip image\n",
    "vertical_flip = cv2.flip(img,0)\n",
    "horizontal_flip = cv2.flip(img,1)\n",
    "combined_flip = cv2.flip(img,-1)\n",
    "\n",
    "\n",
    "cv2.imshow(\"vertical flip\",vertical_flip)\n",
    "cv2.imshow(\"horizontal flip\",horizontal_flip)\n",
    "cv2.imshow(\"combined flip\",combined_flip)\n",
    "\n",
    "cv2.waitKey(0)"
   ]
  },
  {
   "cell_type": "code",
   "execution_count": 13,
   "id": "81984dc2",
   "metadata": {},
   "outputs": [
    {
     "name": "stdout",
     "output_type": "stream",
     "text": [
      "(183, 276, 3)\n"
     ]
    },
    {
     "data": {
      "text/plain": [
       "-1"
      ]
     },
     "execution_count": 13,
     "metadata": {},
     "output_type": "execute_result"
    }
   ],
   "source": [
    "# image croping\n",
    "print(img.shape)\n",
    "\n",
    "croped_img = img[30:150,50:200]\n",
    "\n",
    "cv2.imshow(\"Original image\",img)\n",
    "cv2.imshow(\"cropped image\",croped_img)\n",
    "\n",
    "cv2.waitKey(0)"
   ]
  },
  {
   "cell_type": "code",
   "execution_count": 16,
   "id": "9c7dc608",
   "metadata": {},
   "outputs": [
    {
     "data": {
      "text/plain": [
       "True"
      ]
     },
     "execution_count": 16,
     "metadata": {},
     "output_type": "execute_result"
    }
   ],
   "source": [
    "# saving image\n",
    "cv2.imwrite(\"saved_images/cropped_img.jpg\",croped_img)"
   ]
  },
  {
   "cell_type": "code",
   "execution_count": 22,
   "id": "148c8e04",
   "metadata": {},
   "outputs": [
    {
     "data": {
      "text/plain": [
       "-1"
      ]
     },
     "execution_count": 22,
     "metadata": {},
     "output_type": "execute_result"
    }
   ],
   "source": [
    "# Drawing on images\n",
    "\n",
    "black_img = np.zeros((512,512,3))\n",
    "\n",
    "# line\n",
    "cv2.line(black_img,(0,0),(256,256),(0,255,0),1) \n",
    "\n",
    "# circle\n",
    "cv2.circle(black_img,(256,256),50,(255,0,0),1)\n",
    "\n",
    "# Rectangle\n",
    "cv2.rectangle(black_img,(300,200),(400,500),(0,0,255),1)\n",
    "# Text\n",
    "\n",
    "cv2.putText(black_img,\"Hello World\",(200,100),1,1.0,(0,255,0),1)\n",
    "# thickness = -1 means fil\n",
    "\n",
    "cv2.imshow(\"Black image created using np.zeros\",black_img)\n",
    "\n",
    "\n",
    "cv2.waitKey(0)"
   ]
  },
  {
   "cell_type": "code",
   "execution_count": null,
   "id": "6445f971",
   "metadata": {},
   "outputs": [],
   "source": []
  }
 ],
 "metadata": {
  "kernelspec": {
   "display_name": ".venv",
   "language": "python",
   "name": "python3"
  },
  "language_info": {
   "codemirror_mode": {
    "name": "ipython",
    "version": 3
   },
   "file_extension": ".py",
   "mimetype": "text/x-python",
   "name": "python",
   "nbconvert_exporter": "python",
   "pygments_lexer": "ipython3",
   "version": "3.11.0"
  }
 },
 "nbformat": 4,
 "nbformat_minor": 5
}
