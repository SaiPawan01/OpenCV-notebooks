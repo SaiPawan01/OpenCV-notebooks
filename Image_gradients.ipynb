{
 "cells": [
  {
   "cell_type": "code",
   "execution_count": 3,
   "id": "5602bc86",
   "metadata": {},
   "outputs": [],
   "source": [
    "import cv2 as cv\n",
    "import numpy as np"
   ]
  },
  {
   "cell_type": "code",
   "execution_count": null,
   "id": "5e079921",
   "metadata": {},
   "outputs": [
    {
     "data": {
      "text/plain": [
       "-1"
      ]
     },
     "execution_count": 8,
     "metadata": {},
     "output_type": "execute_result"
    }
   ],
   "source": [
    " \n",
    "img = cv.imread('images/lion.jpg', cv.IMREAD_GRAYSCALE)\n",
    "\n",
    "laplacian = cv.Laplacian(img,cv.CV_64F)\n",
    "cv.imshow(\"laplacian\",laplacian)\n",
    "\n",
    "sobelx = cv.Sobel(img,cv.CV_64F,1,0,ksize=5)\n",
    "cv.imshow(\"sobelx\",sobelx)\n",
    "\n",
    "sobely = cv.Sobel(img,cv.CV_64F,0,1,ksize=5)\n",
    "cv.imshow(\"sobely\",sobely)\n",
    "\n",
    "cv.imshow(\"Original,img\",img)\n",
    "cv.waitKey(0)"
   ]
  },
  {
   "cell_type": "code",
   "execution_count": null,
   "id": "b9c1a8ba",
   "metadata": {},
   "outputs": [],
   "source": []
  }
 ],
 "metadata": {
  "kernelspec": {
   "display_name": ".venv",
   "language": "python",
   "name": "python3"
  },
  "language_info": {
   "codemirror_mode": {
    "name": "ipython",
    "version": 3
   },
   "file_extension": ".py",
   "mimetype": "text/x-python",
   "name": "python",
   "nbconvert_exporter": "python",
   "pygments_lexer": "ipython3",
   "version": "3.11.0"
  }
 },
 "nbformat": 4,
 "nbformat_minor": 5
}
