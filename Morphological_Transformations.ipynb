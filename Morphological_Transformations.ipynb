{
 "cells": [
  {
   "cell_type": "code",
   "execution_count": 2,
   "id": "37847e9e",
   "metadata": {},
   "outputs": [],
   "source": [
    "import cv2 as cv\n",
    "import numpy as np"
   ]
  },
  {
   "cell_type": "code",
   "execution_count": 3,
   "id": "c6691337",
   "metadata": {},
   "outputs": [
    {
     "data": {
      "text/plain": [
       "-1"
      ]
     },
     "execution_count": 3,
     "metadata": {},
     "output_type": "execute_result"
    }
   ],
   "source": [
    "# Erosion \n",
    "img = cv.imread('images/lion.jpg', cv.IMREAD_GRAYSCALE)\n",
    "\n",
    "kernel = np.ones((5,5),np.uint8)\n",
    "erosion = cv.erode(img,kernel,iterations = 1)\n",
    "cv.imshow(\"erosion\",erosion)\n",
    "\n",
    "cv.imshow(\"Original\",img)\n",
    "cv.waitKey(0)"
   ]
  },
  {
   "cell_type": "code",
   "execution_count": 5,
   "id": "344a6675",
   "metadata": {},
   "outputs": [
    {
     "data": {
      "text/plain": [
       "-1"
      ]
     },
     "execution_count": 5,
     "metadata": {},
     "output_type": "execute_result"
    }
   ],
   "source": [
    "# Dilation\n",
    "img = cv.imread('images/lion.jpg', cv.IMREAD_GRAYSCALE)\n",
    "\n",
    "kernel = np.ones((5,5),np.uint8)\n",
    "dilation = cv.dilate(img,kernel,iterations = 1)\n",
    "cv.imshow(\"erosion\",dilation)\n",
    "\n",
    "cv.imshow(\"Original\",img)\n",
    "cv.waitKey(0)"
   ]
  },
  {
   "cell_type": "code",
   "execution_count": null,
   "id": "dd96fde3",
   "metadata": {},
   "outputs": [],
   "source": [
    "# opening\n",
    "img = cv.imread('images/lion.jpg', cv.IMREAD_GRAYSCALE)\n",
    "\n",
    "kernel = np.ones((5,5),np.uint8)\n",
    "opening = cv.morphologyEx(img,cv.MORPH_OPEN,kernel)\n",
    "cv.imshow(\"opening\",opening)\n",
    "\n",
    "cv.imshow(\"Original\",img)\n",
    "cv.waitKey(0)"
   ]
  },
  {
   "cell_type": "code",
   "execution_count": 3,
   "id": "9fe474c6",
   "metadata": {},
   "outputs": [
    {
     "data": {
      "text/plain": [
       "-1"
      ]
     },
     "execution_count": 3,
     "metadata": {},
     "output_type": "execute_result"
    }
   ],
   "source": [
    "# closing\n",
    "img = cv.imread('images/lion.jpg', cv.IMREAD_GRAYSCALE)\n",
    "\n",
    "kernel = np.ones((5,5),np.uint8)\n",
    "closing = cv.morphologyEx(img,cv.MORPH_CLOSE,kernel)\n",
    "cv.imshow(\"erosion\",closing)\n",
    "\n",
    "cv.imshow(\"Original\",img)\n",
    "cv.waitKey(0)"
   ]
  },
  {
   "cell_type": "code",
   "execution_count": 4,
   "id": "8e2fcc58",
   "metadata": {},
   "outputs": [
    {
     "data": {
      "text/plain": [
       "-1"
      ]
     },
     "execution_count": 4,
     "metadata": {},
     "output_type": "execute_result"
    }
   ],
   "source": [
    "# morphological gradient\n",
    "img = cv.imread('images/lion.jpg', cv.IMREAD_GRAYSCALE)\n",
    "\n",
    "kernel = np.ones((5,5),np.uint8)\n",
    "morphGradient = cv.morphologyEx(img,cv.MORPH_GRADIENT,kernel)\n",
    "cv.imshow(\"Morph Gradient\",morphGradient)\n",
    "\n",
    "cv.imshow(\"Original\",img)\n",
    "cv.waitKey(0)"
   ]
  },
  {
   "cell_type": "code",
   "execution_count": 6,
   "id": "51a9bd30",
   "metadata": {},
   "outputs": [
    {
     "data": {
      "text/plain": [
       "-1"
      ]
     },
     "execution_count": 6,
     "metadata": {},
     "output_type": "execute_result"
    }
   ],
   "source": [
    "# Top Hat\n",
    "img = cv.imread('images/lion.jpg', cv.IMREAD_GRAYSCALE)\n",
    "\n",
    "kernel = np.ones((5,5),np.uint8)\n",
    "tophat= cv.morphologyEx(img,cv.MORPH_TOPHAT,kernel)\n",
    "cv.imshow(\"tophat\",tophat)\n",
    "\n",
    "cv.imshow(\"Original\",img)\n",
    "cv.waitKey(0)"
   ]
  },
  {
   "cell_type": "code",
   "execution_count": 7,
   "id": "10133046",
   "metadata": {},
   "outputs": [
    {
     "data": {
      "text/plain": [
       "-1"
      ]
     },
     "execution_count": 7,
     "metadata": {},
     "output_type": "execute_result"
    }
   ],
   "source": [
    "# Black Hat\n",
    "img = cv.imread('images/lion.jpg', cv.IMREAD_GRAYSCALE)\n",
    "\n",
    "kernel = np.ones((5,5),np.uint8)\n",
    "blackhat= cv.morphologyEx(img,cv.MORPH_BLACKHAT,kernel)\n",
    "cv.imshow(\"blackhat\",blackhat)\n",
    "\n",
    "cv.imshow(\"Original\",img)\n",
    "cv.waitKey(0)"
   ]
  }
 ],
 "metadata": {
  "kernelspec": {
   "display_name": ".venv",
   "language": "python",
   "name": "python3"
  },
  "language_info": {
   "codemirror_mode": {
    "name": "ipython",
    "version": 3
   },
   "file_extension": ".py",
   "mimetype": "text/x-python",
   "name": "python",
   "nbconvert_exporter": "python",
   "pygments_lexer": "ipython3",
   "version": "3.11.0"
  }
 },
 "nbformat": 4,
 "nbformat_minor": 5
}
