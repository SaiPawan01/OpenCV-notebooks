{
 "cells": [
  {
   "cell_type": "code",
   "execution_count": 1,
   "id": "e20690ca",
   "metadata": {},
   "outputs": [],
   "source": [
    "import cv2\n",
    "import numpy as np"
   ]
  },
  {
   "cell_type": "code",
   "execution_count": 2,
   "id": "3e08c1a5",
   "metadata": {},
   "outputs": [
    {
     "data": {
      "text/plain": [
       "-1"
      ]
     },
     "execution_count": 2,
     "metadata": {},
     "output_type": "execute_result"
    }
   ],
   "source": [
    "# scaling\n",
    "img = cv2.imread(\"images/lion.jpg\")\n",
    "\n",
    "height,width,_ = img.shape\n",
    "\n",
    "scaled_image_area = cv2.resize(img,(2*width,2*height),interpolation=cv2.INTER_AREA)\n",
    "scaled_image_linear = cv2.resize(img,(2*width,2*height),interpolation=cv2.INTER_LINEAR)\n",
    "scaled_image_cubic = cv2.resize(img,(2*width,2*height),interpolation=cv2.INTER_CUBIC)\n",
    "\n",
    "cv2.imshow(\"Original image\",img)\n",
    "cv2.imshow(\"AREA\",scaled_image_area)\n",
    "cv2.imshow(\"LINEAR\",scaled_image_linear)\n",
    "cv2.imshow(\"CUBIC\",scaled_image_cubic)\n",
    "\n",
    "cv2.waitKey(0)\n"
   ]
  },
  {
   "cell_type": "code",
   "execution_count": 5,
   "id": "1a3e59d5",
   "metadata": {},
   "outputs": [
    {
     "data": {
      "text/plain": [
       "-1"
      ]
     },
     "execution_count": 5,
     "metadata": {},
     "output_type": "execute_result"
    }
   ],
   "source": [
    "# Translation\n",
    "\n",
    "rows,cols,_ = scaled_image_area.shape\n",
    "\n",
    "translation_matrix = np.float32([[1,0,100],[0,1,50]])\n",
    "\n",
    "translated_img = cv2.warpAffine(img,translation_matrix,(cols,rows))\n",
    "\n",
    "cv2.imshow(\"original img\",scaled_image_area)\n",
    "cv2.imshow(\"translated img\",translated_img)\n",
    "\n",
    "cv2.waitKey(0)"
   ]
  },
  {
   "cell_type": "code",
   "execution_count": 8,
   "id": "dc46f984",
   "metadata": {},
   "outputs": [
    {
     "data": {
      "text/plain": [
       "-1"
      ]
     },
     "execution_count": 8,
     "metadata": {},
     "output_type": "execute_result"
    }
   ],
   "source": [
    "# Rotation\n",
    "rows,cols,_ = scaled_image_area.shape\n",
    "\n",
    "translation_matrix = cv2.getRotationMatrix2D(((cols-1)/2,(rows-1)/2),60,1)\n",
    "\n",
    "translated_img = cv2.warpAffine(img,translation_matrix,(cols,rows))\n",
    "\n",
    "cv2.imshow(\"original img\",scaled_image_area)\n",
    "cv2.imshow(\"translated img\",translated_img)\n",
    "\n",
    "cv2.waitKey(0)"
   ]
  },
  {
   "cell_type": "code",
   "execution_count": 9,
   "id": "942abda5",
   "metadata": {},
   "outputs": [
    {
     "data": {
      "text/plain": [
       "-1"
      ]
     },
     "execution_count": 9,
     "metadata": {},
     "output_type": "execute_result"
    }
   ],
   "source": [
    "#  Affine Transformation\n",
    "rows,cols,_ = scaled_image_area.shape\n",
    "\n",
    "pts1 = np.float32([[50,50],[200,50],[50,200]])\n",
    "pts2 = np.float32([[10,100],[200,50],[100,250]])\n",
    " \n",
    "translation_matrix= cv2.getAffineTransform(pts1,pts2)\n",
    "\n",
    "translated_img = cv2.warpAffine(img,translation_matrix,(cols,rows))\n",
    "\n",
    "cv2.imshow(\"original img\",scaled_image_area)\n",
    "cv2.imshow(\"translated img\",translated_img)\n",
    "\n",
    "cv2.waitKey(0)"
   ]
  },
  {
   "cell_type": "code",
   "execution_count": 13,
   "id": "62c83ee8",
   "metadata": {},
   "outputs": [
    {
     "data": {
      "text/plain": [
       "-1"
      ]
     },
     "execution_count": 13,
     "metadata": {},
     "output_type": "execute_result"
    }
   ],
   "source": [
    "# Perspective Transformation\n",
    "rows,cols,_ = scaled_image_area.shape\n",
    "\n",
    "pts1 = np.float32([[56,65],[368,52],[28,387],[389,390]])\n",
    "pts2 = np.float32([[110,140],[300,120],[110,300],[300,300]])\n",
    " \n",
    "translation_matrix= cv2.getPerspectiveTransform(pts1,pts2)\n",
    "\n",
    "translated_img = cv2.warpPerspective(img,translation_matrix,(cols,rows))\n",
    "\n",
    "cv2.imshow(\"original img\",scaled_image_area)\n",
    "cv2.imshow(\"translated img\",translated_img)\n",
    "\n",
    "cv2.waitKey(0)"
   ]
  }
 ],
 "metadata": {
  "kernelspec": {
   "display_name": ".venv",
   "language": "python",
   "name": "python3"
  },
  "language_info": {
   "codemirror_mode": {
    "name": "ipython",
    "version": 3
   },
   "file_extension": ".py",
   "mimetype": "text/x-python",
   "name": "python",
   "nbconvert_exporter": "python",
   "pygments_lexer": "ipython3",
   "version": "3.11.0"
  }
 },
 "nbformat": 4,
 "nbformat_minor": 5
}
