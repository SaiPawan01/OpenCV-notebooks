{
 "cells": [
  {
   "cell_type": "code",
   "execution_count": 1,
   "id": "36cf9565",
   "metadata": {},
   "outputs": [],
   "source": [
    "import cv2 as cv\n",
    "import numpy as np"
   ]
  },
  {
   "cell_type": "code",
   "execution_count": 2,
   "id": "0d90b162",
   "metadata": {},
   "outputs": [
    {
     "data": {
      "text/plain": [
       "-1"
      ]
     },
     "execution_count": 2,
     "metadata": {},
     "output_type": "execute_result"
    }
   ],
   "source": [
    "# 2D convolution (Image Filtering)\n",
    "img = cv.imread(\"images/lion.jpg\")\n",
    "\n",
    "kernel = np.ones((5,5),np.float32)/25\n",
    "dst = cv.filter2D(img,-1,kernel)\n",
    "cv.imshow(\"Filter2D\",dst)\n",
    "\n",
    "cv.imshow(\"Original\",img)\n",
    "cv.waitKey(0)"
   ]
  },
  {
   "cell_type": "markdown",
   "id": "cca19bdf",
   "metadata": {},
   "source": [
    "## Image Blurring (Image Smoothing)"
   ]
  },
  {
   "cell_type": "code",
   "execution_count": 5,
   "id": "11990b4e",
   "metadata": {},
   "outputs": [
    {
     "data": {
      "text/plain": [
       "-1"
      ]
     },
     "execution_count": 5,
     "metadata": {},
     "output_type": "execute_result"
    }
   ],
   "source": [
    "\n",
    "# Averaging\n",
    "img = cv.imread(\"images/lion.jpg\")\n",
    "\n",
    "blur = cv.blur(img,(5,5))\n",
    "cv.imshow(\"blur\",blur)\n",
    "\n",
    "boxfilter = cv.boxFilter(img,-1,(5,5))\n",
    "cv.imshow(\"boxfilter\",boxfilter)\n",
    "\n",
    "cv.imshow(\"Original\",img)\n",
    "cv.waitKey(0)"
   ]
  },
  {
   "cell_type": "code",
   "execution_count": 6,
   "id": "85ee5fbf",
   "metadata": {},
   "outputs": [
    {
     "data": {
      "text/plain": [
       "-1"
      ]
     },
     "execution_count": 6,
     "metadata": {},
     "output_type": "execute_result"
    }
   ],
   "source": [
    "# Gaussian Blurring\n",
    "img = cv.imread(\"images/lion.jpg\")\n",
    "\n",
    "GassuianBlur = cv.GaussianBlur(img,(5,5),0)\n",
    "cv.imshow(\"Gassuian Blur\",GassuianBlur)\n",
    "\n",
    "\n",
    "cv.imshow(\"Original\",img)\n",
    "cv.waitKey(0)"
   ]
  },
  {
   "cell_type": "code",
   "execution_count": 7,
   "id": "6aeee5e6",
   "metadata": {},
   "outputs": [
    {
     "data": {
      "text/plain": [
       "-1"
      ]
     },
     "execution_count": 7,
     "metadata": {},
     "output_type": "execute_result"
    }
   ],
   "source": [
    "# Median Blurring\n",
    "img = cv.imread(\"images/lion.jpg\")\n",
    "\n",
    "medianblur = cv.medianBlur(img,5)\n",
    "cv.imshow(\"median Blur\",medianblur)\n",
    "\n",
    "cv.imshow(\"Original\",img)\n",
    "cv.waitKey(0)"
   ]
  },
  {
   "cell_type": "code",
   "execution_count": 8,
   "id": "245258d4",
   "metadata": {},
   "outputs": [
    {
     "data": {
      "text/plain": [
       "-1"
      ]
     },
     "execution_count": 8,
     "metadata": {},
     "output_type": "execute_result"
    }
   ],
   "source": [
    "# Bilateral Filtering\n",
    "img = cv.imread(\"images/lion.jpg\")\n",
    "\n",
    "medianblur = cv.bilateralFilter(img,9,75,75)\n",
    "cv.imshow(\"median Blur\",medianblur)\n",
    "\n",
    "cv.imshow(\"Original\",img)\n",
    "cv.waitKey(0)"
   ]
  },
  {
   "cell_type": "code",
   "execution_count": null,
   "id": "fc31e2b5",
   "metadata": {},
   "outputs": [],
   "source": []
  }
 ],
 "metadata": {
  "kernelspec": {
   "display_name": ".venv",
   "language": "python",
   "name": "python3"
  },
  "language_info": {
   "codemirror_mode": {
    "name": "ipython",
    "version": 3
   },
   "file_extension": ".py",
   "mimetype": "text/x-python",
   "name": "python",
   "nbconvert_exporter": "python",
   "pygments_lexer": "ipython3",
   "version": "3.11.0"
  }
 },
 "nbformat": 4,
 "nbformat_minor": 5
}
