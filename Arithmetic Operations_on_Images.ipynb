{
 "cells": [
  {
   "cell_type": "code",
   "execution_count": 1,
   "id": "3bb30f0f",
   "metadata": {},
   "outputs": [],
   "source": [
    "import cv2\n",
    "import numpy as np"
   ]
  },
  {
   "cell_type": "code",
   "execution_count": 2,
   "id": "f5a6becf",
   "metadata": {},
   "outputs": [
    {
     "name": "stdout",
     "output_type": "stream",
     "text": [
      "(200, 357, 3)\n",
      "(200, 357, 3)\n"
     ]
    },
    {
     "data": {
      "text/plain": [
       "-1"
      ]
     },
     "execution_count": 2,
     "metadata": {},
     "output_type": "execute_result"
    }
   ],
   "source": [
    "# Reading and displaying\n",
    "img1 = cv2.imread(\"images/lion.jpg\")\n",
    "height,width,_ = img1.shape\n",
    "\n",
    "img2 = cv2.imread(\"images/forest.jpeg\")\n",
    "img2 = cv2.resize(img2,(width,height))\n",
    "\n",
    "cv2.imshow(\"Squirrel image\",img1)\n",
    "cv2.imshow(\"forest image\",img2)\n",
    "\n",
    "print(img1.shape)\n",
    "print(img2.shape)\n",
    "\n",
    "cv2.waitKey(0)"
   ]
  },
  {
   "cell_type": "code",
   "execution_count": 3,
   "id": "d042cd7c",
   "metadata": {},
   "outputs": [
    {
     "name": "stdout",
     "output_type": "stream",
     "text": [
      "[[260.]\n",
      " [  0.]\n",
      " [  0.]\n",
      " [  0.]]\n",
      "[4]\n"
     ]
    }
   ],
   "source": [
    "# Addition operation\n",
    "x = np.uint8([250])\n",
    "y = np.uint8([10])\n",
    "\n",
    "\n",
    "print( cv2.add(x,y) ) # 250+10 = 260 => 255\n",
    "\n",
    "print( x+y )          # 250+10 = 260 % 256 = 4\n"
   ]
  },
  {
   "cell_type": "code",
   "execution_count": 4,
   "id": "b398053b",
   "metadata": {},
   "outputs": [
    {
     "data": {
      "text/plain": [
       "-1"
      ]
     },
     "execution_count": 4,
     "metadata": {},
     "output_type": "execute_result"
    }
   ],
   "source": [
    "# Image Blending\n",
    "blended_image_0 = cv2.addWeighted(img1,0.5,img2,0.5,0)\n",
    "blended_image_1 = cv2.addWeighted(img1,0.5,img2,0.5,1)\n",
    "\n",
    "cv2.imshow(\"blended image 0\",blended_image_0)\n",
    "cv2.imshow(\"blended image 1\",blended_image_1)\n",
    "\n",
    "cv2.waitKey(0)"
   ]
  },
  {
   "cell_type": "code",
   "execution_count": null,
   "id": "37a89230",
   "metadata": {},
   "outputs": [],
   "source": []
  },
  {
   "cell_type": "code",
   "execution_count": 6,
   "id": "6b92d7f4",
   "metadata": {},
   "outputs": [
    {
     "data": {
      "text/plain": [
       "8.8989332"
      ]
     },
     "execution_count": 6,
     "metadata": {},
     "output_type": "execute_result"
    }
   ],
   "source": [
    "# performance measurment\n",
    "\n",
    "e1 = cv2.getTickCount()\n",
    "\n",
    "\n",
    "blended_image_0 = cv2.addWeighted(img1,0.5,img2,0.5,0)\n",
    "blended_image_1 = cv2.addWeighted(img1,0.5,img2,0.5,1)\n",
    "cv2.imshow(\"blended image 0\",blended_image_0)\n",
    "cv2.imshow(\"blended image 1\",blended_image_1)\n",
    "cv2.waitKey(0)\n",
    "\n",
    "\n",
    "e2 = cv2.getTickCount()\n",
    "\n",
    "time = (e2 - e1)/ cv2.getTickFrequency()\n",
    "time"
   ]
  },
  {
   "cell_type": "code",
   "execution_count": null,
   "id": "5b01eac4",
   "metadata": {},
   "outputs": [],
   "source": []
  }
 ],
 "metadata": {
  "kernelspec": {
   "display_name": ".venv",
   "language": "python",
   "name": "python3"
  },
  "language_info": {
   "codemirror_mode": {
    "name": "ipython",
    "version": 3
   },
   "file_extension": ".py",
   "mimetype": "text/x-python",
   "name": "python",
   "nbconvert_exporter": "python",
   "pygments_lexer": "ipython3",
   "version": "3.11.0"
  }
 },
 "nbformat": 4,
 "nbformat_minor": 5
}
