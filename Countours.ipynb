{
 "cells": [
  {
   "cell_type": "code",
   "execution_count": 1,
   "id": "ba052281",
   "metadata": {},
   "outputs": [],
   "source": [
    "import cv2 as cv\n",
    "import numpy as np"
   ]
  },
  {
   "cell_type": "code",
   "execution_count": 5,
   "id": "b6dc7f98",
   "metadata": {},
   "outputs": [
    {
     "data": {
      "text/plain": [
       "-1"
      ]
     },
     "execution_count": 5,
     "metadata": {},
     "output_type": "execute_result"
    }
   ],
   "source": [
    "# finding countours\n",
    "img = cv.imread(\"images/forest.jpeg\",cv.IMREAD_GRAYSCALE)\n",
    "\n",
    "\n",
    "ret,thres = cv.threshold(img,127,255,cv.THRESH_BINARY)\n",
    "contours, hierarchy = cv.findContours(thres,cv.RETR_TREE,cv.CHAIN_APPROX_SIMPLE)\n",
    "\n",
    "\n",
    "\n",
    "cv.drawContours(img,contours,-1,(0,255,0),3)\n",
    "\n",
    "cv.imshow(\"original\",img)\n",
    "cv.waitKey(0)"
   ]
  },
  {
   "cell_type": "code",
   "execution_count": null,
   "id": "7ed05f9f",
   "metadata": {},
   "outputs": [],
   "source": []
  }
 ],
 "metadata": {
  "kernelspec": {
   "display_name": ".venv",
   "language": "python",
   "name": "python3"
  },
  "language_info": {
   "codemirror_mode": {
    "name": "ipython",
    "version": 3
   },
   "file_extension": ".py",
   "mimetype": "text/x-python",
   "name": "python",
   "nbconvert_exporter": "python",
   "pygments_lexer": "ipython3",
   "version": "3.11.0"
  }
 },
 "nbformat": 4,
 "nbformat_minor": 5
}
