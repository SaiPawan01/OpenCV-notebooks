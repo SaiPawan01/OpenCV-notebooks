{
 "cells": [
  {
   "cell_type": "code",
   "execution_count": 1,
   "id": "5ba8d47b",
   "metadata": {},
   "outputs": [],
   "source": [
    "import cv2 as cv"
   ]
  },
  {
   "cell_type": "code",
   "execution_count": null,
   "id": "0e8553bc",
   "metadata": {},
   "outputs": [],
   "source": [
    "# simple thresholding\n",
    "img = cv.imread(\"images/lion.jpg\")\n",
    "img = cv.cvtColor(img,cv.COLOR_BGR2GRAY)\n",
    "\n",
    "ret, thresh1 = cv.threshold(img,127,255,cv.THRESH_BINARY)\n",
    "cv.imshow(\"Binary Thres\",thresh1)\n",
    "\n",
    "ret,thresh2 = cv.threshold(img,127,255,cv.THRESH_BINARY_INV)\n",
    "cv.imshow(\"Binary Inverse\",img)\n",
    "\n",
    "ret,thresh3 = cv.threshold(img,127,255,cv.THRESH_TRUNC)\n",
    "cv.imshow(\"Trunc\",thresh3)\n",
    "\n",
    "ret,thresh4 = cv.threshold(img,127,255,cv.THRESH_TOZERO)\n",
    "cv.imshow(\"ToZero\",thresh4)\n",
    "\n",
    "ret,thresh5 = cv.threshold(img,127,255,cv.THRESH_TOZERO_INV)\n",
    "cv.imshow(\"ToZero Inverse\",thresh5)\n",
    "\n",
    "cv.imshow(\"Original\",img)\n",
    "cv.waitKey(0)"
   ]
  },
  {
   "cell_type": "code",
   "execution_count": null,
   "id": "b4e23bfb",
   "metadata": {},
   "outputs": [
    {
     "data": {
      "text/plain": [
       "-1"
      ]
     },
     "execution_count": 6,
     "metadata": {},
     "output_type": "execute_result"
    }
   ],
   "source": [
    "# Adaptive Thresholding\n",
    "img = cv.imread(\"images/lion.jpg\")\n",
    "img = cv.cvtColor(img,cv.COLOR_BGR2GRAY)\n",
    "\n",
    "ret,th1 = cv.threshold(img,127,255,cv.THRESH_BINARY)\n",
    "cv.imshow(\"Binary\",th1)\n",
    "\n",
    "th2 = cv.adaptiveThreshold(img,255,cv.ADAPTIVE_THRESH_MEAN_C,\\\n",
    "            cv.THRESH_BINARY,11,2)\n",
    "cv.imshow(\"Mean C\",th2)\n",
    "\n",
    "th3 = cv.adaptiveThreshold(img,255,cv.ADAPTIVE_THRESH_GAUSSIAN_C,\\\n",
    "            cv.THRESH_BINARY,11,2)\n",
    "cv.imshow(\"Gussian C\",th3)\n",
    "\n",
    "\n",
    "cv.imshow(\"Original\",img)\n",
    "cv.waitKey(0)"
   ]
  },
  {
   "cell_type": "code",
   "execution_count": null,
   "id": "ec2fe676",
   "metadata": {},
   "outputs": [
    {
     "ename": "error",
     "evalue": "OpenCV(4.11.0) :-1: error: (-5:Bad argument) in function 'calcHist'\n> Overload resolution failed:\n>  - calcHist() missing required argument 'mask' (pos 3)\n>  - calcHist() missing required argument 'mask' (pos 3)\n",
     "output_type": "error",
     "traceback": [
      "\u001b[31m---------------------------------------------------------------------------\u001b[39m",
      "\u001b[31merror\u001b[39m                                     Traceback (most recent call last)",
      "\u001b[36mCell\u001b[39m\u001b[36m \u001b[39m\u001b[32mIn[2]\u001b[39m\u001b[32m, line 8\u001b[39m\n\u001b[32m      6\u001b[39m ret1,th1 = cv.threshold(img,\u001b[32m127\u001b[39m,\u001b[32m255\u001b[39m,cv.THRESH_BINARY)\n\u001b[32m      7\u001b[39m cv.imshow(\u001b[33m\"\u001b[39m\u001b[33mBinary\u001b[39m\u001b[33m\"\u001b[39m,th1)\n\u001b[32m----> \u001b[39m\u001b[32m8\u001b[39m hist1 = \u001b[43mcv\u001b[49m\u001b[43m.\u001b[49m\u001b[43mcalcHist\u001b[49m\u001b[43m(\u001b[49m\u001b[43mimg\u001b[49m\u001b[43m,\u001b[49m\u001b[32;43m1\u001b[39;49m\u001b[43m)\u001b[49m\n\u001b[32m      9\u001b[39m cv.imshow(\u001b[33m\"\u001b[39m\u001b[33mhist Binary\u001b[39m\u001b[33m\"\u001b[39m,hist1)\n\u001b[32m     11\u001b[39m ret2,th2 = cv.threshold(img,\u001b[32m0\u001b[39m,\u001b[32m255\u001b[39m,cv.THRESH_BINARY+cv.THRESH_OTSU)\n",
      "\u001b[31merror\u001b[39m: OpenCV(4.11.0) :-1: error: (-5:Bad argument) in function 'calcHist'\n> Overload resolution failed:\n>  - calcHist() missing required argument 'mask' (pos 3)\n>  - calcHist() missing required argument 'mask' (pos 3)\n"
     ]
    },
    {
     "ename": "",
     "evalue": "",
     "output_type": "error",
     "traceback": [
      "\u001b[1;31mThe Kernel crashed while executing code in the current cell or a previous cell. \n",
      "\u001b[1;31mPlease review the code in the cell(s) to identify a possible cause of the failure. \n",
      "\u001b[1;31mClick <a href='https://aka.ms/vscodeJupyterKernelCrash'>here</a> for more info. \n",
      "\u001b[1;31mView Jupyter <a href='command:jupyter.viewOutput'>log</a> for further details."
     ]
    }
   ],
   "source": [
    "# Otsu's Binarization\n",
    "img = cv.imread(\"images/lion.jpg\")\n",
    "img = cv.cvtColor(img,cv.COLOR_BGR2GRAY)\n",
    "\n",
    "\n",
    "ret1,th1 = cv.threshold(img,127,255,cv.THRESH_BINARY)\n",
    "cv.imshow(\"Binary\",th1)\n",
    "\n",
    "ret2,th2 = cv.threshold(img,0,255,cv.THRESH_BINARY+cv.THRESH_OTSU)\n",
    "cv.imshow(\"Binary + OSTU\",th2)\n",
    "\n",
    "blur = cv.GaussianBlur(img,(5,5),0)\n",
    "ret3, th3 = cv.threshold(img,0,255,cv.THRESH_BINARY+cv.THRESH_OTSU)\n",
    "cv.imshow(\"GussainBlur + Binary + OSTU\",th3)\n",
    "\n",
    "\n",
    "cv.imshow(\"Original\",img)\n",
    "cv.waitKey(0)"
   ]
  },
  {
   "cell_type": "code",
   "execution_count": null,
   "id": "054fd5d1",
   "metadata": {},
   "outputs": [],
   "source": []
  }
 ],
 "metadata": {
  "kernelspec": {
   "display_name": ".venv",
   "language": "python",
   "name": "python3"
  },
  "language_info": {
   "codemirror_mode": {
    "name": "ipython",
    "version": 3
   },
   "file_extension": ".py",
   "mimetype": "text/x-python",
   "name": "python",
   "nbconvert_exporter": "python",
   "pygments_lexer": "ipython3",
   "version": "3.11.0"
  }
 },
 "nbformat": 4,
 "nbformat_minor": 5
}
